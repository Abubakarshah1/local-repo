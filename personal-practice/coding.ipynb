{
 "cells": [
  {
   "cell_type": "code",
   "execution_count": 2,
   "metadata": {},
   "outputs": [
    {
     "name": "stdout",
     "output_type": "stream",
     "text": [
      "33\n"
     ]
    }
   ],
   "source": [
    "# Add two numbers\n",
    "\n",
    "num1 = int(input('Enter first number'))\n",
    "num2 = int(input('Enter second number'))\n",
    "sum = (num1 + num2 )\n",
    "print(sum)"
   ]
  },
  {
   "cell_type": "code",
   "execution_count": 3,
   "metadata": {},
   "outputs": [
    {
     "name": "stdout",
     "output_type": "stream",
     "text": [
      "My fav animal is also cow\n"
     ]
    }
   ],
   "source": [
    "#Agreement Boot\n",
    "\n",
    "fav_animal = input('What is your Fav Animal')\n",
    "my_fav = (f'My fav animal is also {fav_animal}')\n",
    "print(my_fav)"
   ]
  },
  {
   "cell_type": "code",
   "execution_count": 4,
   "metadata": {},
   "outputs": [
    {
     "name": "stdout",
     "output_type": "stream",
     "text": [
      "23.88888888888889\n"
     ]
    }
   ],
   "source": [
    "# Converting Temp\n",
    "\n",
    "user = input('Enter Temperature in fahrenheit')\n",
    "temperature = (75 -32) * 5.0/9.0\n",
    "print(temperature)"
   ]
  },
  {
   "cell_type": "code",
   "execution_count": 3,
   "metadata": {},
   "outputs": [
    {
     "name": "stdout",
     "output_type": "stream",
     "text": [
      "The Perimeter of triangle is 12\n"
     ]
    }
   ],
   "source": [
    "# Triangle Perimeter\n",
    "\n",
    "side1 = int(input('Enter the length of side 1 ?'))\n",
    "side2 = int(input('Enter the length of side 2 ?'))\n",
    "side3 = int(input('Enter the length of side 3 ?'))\n",
    "triangle_perimeter = (side1 + side2 + side3)\n",
    "print(f'The Perimeter of triangle is {triangle_perimeter}')"
   ]
  },
  {
   "cell_type": "code",
   "execution_count": 4,
   "metadata": {},
   "outputs": [
    {
     "name": "stdout",
     "output_type": "stream",
     "text": [
      "25\n"
     ]
    }
   ],
   "source": [
    "# Square Number\n",
    "\n",
    "user = int(input('Enter a number'))\n",
    "square = (user**2)\n",
    "print(square)"
   ]
  },
  {
   "cell_type": "code",
   "execution_count": 7,
   "metadata": {},
   "outputs": [
    {
     "name": "stdout",
     "output_type": "stream",
     "text": [
      "[1, 2, 4, 5]\n"
     ]
    }
   ],
   "source": [
    "# Delete a number\n",
    "\n",
    "number:list=[1,2,3,4,5]\n",
    "number.remove(3)\n",
    "print(number)"
   ]
  },
  {
   "cell_type": "code",
   "execution_count": 8,
   "metadata": {},
   "outputs": [
    {
     "name": "stdout",
     "output_type": "stream",
     "text": [
      "[1, 2, 3, 4, 5, 6]\n"
     ]
    }
   ],
   "source": [
    "# Creating a list\n",
    "\n",
    "list1 = [1,2,3]\n",
    "list2 = [4,5,6]\n",
    "list1.extend(list2)\n",
    "print(list1)"
   ]
  },
  {
   "cell_type": "code",
   "execution_count": 10,
   "metadata": {},
   "outputs": [
    {
     "name": "stdout",
     "output_type": "stream",
     "text": [
      "[10, 20, 30, 40]\n"
     ]
    }
   ],
   "source": [
    "# PoP Method\n",
    "\n",
    "items = [10,20,30,40,50]\n",
    "items.pop()\n",
    "print(items)"
   ]
  },
  {
   "cell_type": "code",
   "execution_count": 11,
   "metadata": {},
   "outputs": [
    {
     "data": {
      "text/plain": [
       "2"
      ]
     },
     "execution_count": 11,
     "metadata": {},
     "output_type": "execute_result"
    }
   ],
   "source": [
    "# Index Method\n",
    "\n",
    "colors = ['Red','Blue','Green','yellow']\n",
    "colors.index('Green')\n"
   ]
  },
  {
   "cell_type": "code",
   "execution_count": 1,
   "metadata": {},
   "outputs": [
    {
     "name": "stdout",
     "output_type": "stream",
     "text": [
      "you entered ['1', '2', '4', '3', '6', 'k', 'ln', 'i', 'o', ';', 'ki', 'y']\n"
     ]
    }
   ],
   "source": [
    "# Challenge Question\n",
    "\n",
    "user_list = []\n",
    "\n",
    "while True:\n",
    "    user_input=input('Enter a value(press enter to finish): ')\n",
    "    if user_input==\"\":\n",
    "        break\n",
    "    user_list.append(user_input)\n",
    "\n",
    "\n",
    "print(\"you entered\",user_list)    \n"
   ]
  },
  {
   "cell_type": "code",
   "execution_count": null,
   "metadata": {},
   "outputs": [],
   "source": []
  }
 ],
 "metadata": {
  "kernelspec": {
   "display_name": "Python 3",
   "language": "python",
   "name": "python3"
  },
  "language_info": {
   "codemirror_mode": {
    "name": "ipython",
    "version": 3
   },
   "file_extension": ".py",
   "mimetype": "text/x-python",
   "name": "python",
   "nbconvert_exporter": "python",
   "pygments_lexer": "ipython3",
   "version": "3.12.4"
  }
 },
 "nbformat": 4,
 "nbformat_minor": 2
}
