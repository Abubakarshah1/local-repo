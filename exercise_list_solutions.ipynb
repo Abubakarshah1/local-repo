{
 "cells": [
  {
   "cell_type": "markdown",
   "metadata": {},
   "source": [
    " # Exercise 3-1 list"
   ]
  },
  {
   "cell_type": "code",
   "execution_count": 1,
   "metadata": {},
   "outputs": [
    {
     "name": "stdout",
     "output_type": "stream",
     "text": [
      "ali\n",
      "bilal\n",
      "khubaib\n",
      "hassan\n",
      "shafay\n",
      "abdullah\n"
     ]
    }
   ],
   "source": [
    "\n",
    "names:list = ['ali','bilal','khubaib','hassan','shafay','abdullah']\n",
    "print(names[0])\n",
    "print(names[1])\n",
    "print(names[2])\n",
    "print(names[3])\n",
    "print(names[4])\n",
    "print(names[5])"
   ]
  },
  {
   "cell_type": "markdown",
   "metadata": {},
   "source": [
    "# Exercise 3-2 Greeting\n"
   ]
  },
  {
   "cell_type": "code",
   "execution_count": 2,
   "metadata": {},
   "outputs": [
    {
     "name": "stdout",
     "output_type": "stream",
     "text": [
      "i love you buddy ali\n",
      "i love you buddy bilal\n",
      "i love you buddy khubaib\n",
      "i love you buddy hassan\n",
      "i love you buddy shafay\n",
      "i love you buddy abdullah\n"
     ]
    }
   ],
   "source": [
    "print(f\"i love you buddy {names[0]}\")\n",
    "print(f\"i love you buddy {names[1]}\")\n",
    "print(f\"i love you buddy {names[2]}\")\n",
    "print(f\"i love you buddy {names[3]}\")\n",
    "print(f\"i love you buddy {names[4]}\")\n",
    "print(f\"i love you buddy {names[5]}\")"
   ]
  },
  {
   "cell_type": "markdown",
   "metadata": {},
   "source": [
    "# Exercise 3-3 Your Own List"
   ]
  },
  {
   "cell_type": "code",
   "execution_count": 3,
   "metadata": {},
   "outputs": [
    {
     "name": "stdout",
     "output_type": "stream",
     "text": [
      "i want like to own Grandi\n",
      "i want like to own Civic\n",
      "i want like to own Sonata\n",
      "i want like to own Porshe911\n",
      "i want like to own Range Rover\n",
      "i want like to own G Wagon\n"
     ]
    }
   ],
   "source": [
    "fav_car:list = ['Grandi','Civic','Sonata','Porshe911','Range Rover','G Wagon']\n",
    "print(f\"i want like to own {fav_car[0]}\")\n",
    "print(f\"i want like to own {fav_car[1]}\")\n",
    "print(f\"i want like to own {fav_car[2]}\")\n",
    "print(f\"i want like to own {fav_car[3]}\")\n",
    "print(f\"i want like to own {fav_car[4]}\")\n",
    "print(f\"i want like to own {fav_car[5]}\")"
   ]
  },
  {
   "cell_type": "markdown",
   "metadata": {},
   "source": [
    "# Exercise 3-4 Guest List"
   ]
  },
  {
   "cell_type": "code",
   "execution_count": 4,
   "metadata": {},
   "outputs": [
    {
     "name": "stdout",
     "output_type": "stream",
     "text": [
      "hello brother i would like to invite you on dinner tonight Ali Rana\n",
      "hello brother i would like to invite you on dinner tonight Ali chaudhary\n",
      "hello miss world i would like to invite you on dinner tonight Manahil Chaudhary\n"
     ]
    }
   ],
   "source": [
    "guest:list = ['Ali Rana','Manahil Chaudhary','Ali chaudhary']\n",
    "print(f\"hello brother i would like to invite you on dinner tonight {guest[0]}\")\n",
    "print(f\"hello brother i would like to invite you on dinner tonight {guest[2]}\")\n",
    "print(f\"hello miss world i would like to invite you on dinner tonight {guest[1]}\")"
   ]
  },
  {
   "cell_type": "markdown",
   "metadata": {},
   "source": [
    "# Exercise 3-5 Changing Guest List"
   ]
  },
  {
   "cell_type": "code",
   "execution_count": 5,
   "metadata": {},
   "outputs": [
    {
     "name": "stdout",
     "output_type": "stream",
     "text": [
      "['khubaib', 'awais', 'ayesha']\n",
      "han khubaib raat ki roti meri trf teri ok ponch jana\n",
      "Hello awais brother todays dinner at my place ok \n",
      "heloo ayesha today i'm hosting dinner for all my friends at my place so you have to come\n"
     ]
    }
   ],
   "source": [
    "guest[0] = 'khubaib'\n",
    "guest[1] = 'awais'\n",
    "guest[2]= 'ayesha'\n",
    "print(guest)\n",
    "print(f\"han {guest[0]} raat ki roti meri trf teri ok ponch jana\")\n",
    "print(f\"Hello {guest[1]} brother todays dinner at my place ok \")\n",
    "print(f\"heloo {guest[2]} today i'm hosting dinner for all my friends at my place so you have to come\")"
   ]
  },
  {
   "cell_type": "markdown",
   "metadata": {},
   "source": [
    " # Exercise 3-6: More Guests"
   ]
  },
  {
   "cell_type": "code",
   "execution_count": 8,
   "metadata": {},
   "outputs": [
    {
     "name": "stdout",
     "output_type": "stream",
     "text": [
      "['hamza', 'hamza', 'usman', 'khubaib', 'usman', 'awais', 'ayesha', 'hassan', 'hassan']\n",
      "hello ['hamza', 'hamza', 'usman', 'khubaib', 'usman', 'awais', 'ayesha', 'hassan', 'hassan'] i'm feeling great to inform you that i have a bigger table at my house to i would like to invite some more friends\n"
     ]
    }
   ],
   "source": [
    "print(guest)\n",
    "print(f\"hello {guest} i'm feeling great to inform you that i have a bigger table at my house to i would like to invite some more friends\")\n"
   ]
  },
  {
   "cell_type": "code",
   "execution_count": 9,
   "metadata": {},
   "outputs": [],
   "source": [
    "guest.insert(0,'hamza')\n",
    "guest\n",
    "guest.insert(2,'usman')\n",
    "guest\n",
    "guest.append('hassan')"
   ]
  },
  {
   "cell_type": "code",
   "execution_count": 10,
   "metadata": {},
   "outputs": [],
   "source": [
    "guest\n",
    "index=0"
   ]
  },
  {
   "cell_type": "code",
   "execution_count": 11,
   "metadata": {},
   "outputs": [
    {
     "name": "stdout",
     "output_type": "stream",
     "text": [
      "12\n"
     ]
    }
   ],
   "source": [
    "print(len(guest))"
   ]
  },
  {
   "cell_type": "code",
   "execution_count": 20,
   "metadata": {},
   "outputs": [
    {
     "name": "stdout",
     "output_type": "stream",
     "text": [
      "happy to inform that we are getting dinner together hamza\n",
      "happy to inform that we are getting dinner together Ali Rana\n",
      "happy to inform that we are getting dinner together usman\n",
      "happy to inform that we are getting dinner together Manahil Chaudhary\n",
      "happy to inform that we are getting dinner together Ali chaudhary\n",
      "happy to inform that we are getting dinner together hassan\n"
     ]
    }
   ],
   "source": [
    "print(f'happy to inform that we are getting dinner together {guest[0]}')\n",
    "print(f'happy to inform that we are getting dinner together {guest[1]}')\n",
    "print(f'happy to inform that we are getting dinner together {guest[2]}')\n",
    "print(f'happy to inform that we are getting dinner together {guest[3]}')\n",
    "print(f'happy to inform that we are getting dinner together {guest[4]}')\n",
    "print(f'happy to inform that we are getting dinner together {guest[5]}')"
   ]
  },
  {
   "cell_type": "markdown",
   "metadata": {},
   "source": [
    " # Exercise 3-7 Shrinking Guest List"
   ]
  },
  {
   "cell_type": "code",
   "execution_count": 29,
   "metadata": {},
   "outputs": [
    {
     "name": "stdout",
     "output_type": "stream",
     "text": [
      " ('hamza', 'Ali Rana', 'Manahil Chaudhary', 'Ali chaudhary') i'm not feeling good to inform that i can only invite two friends for dinner tonight\n"
     ]
    }
   ],
   "source": [
    "print(f\" {guest} i'm not feeling good to inform that i can only invite two friends for dinner tonight\")"
   ]
  },
  {
   "cell_type": "code",
   "execution_count": 49,
   "metadata": {},
   "outputs": [
    {
     "data": {
      "text/plain": [
       "('hamza', 'Ali Rana', 'Manahil Chaudhary', 'Ali chaudhary')"
      ]
     },
     "execution_count": 49,
     "metadata": {},
     "output_type": "execute_result"
    }
   ],
   "source": [
    "guest"
   ]
  },
  {
   "cell_type": "code",
   "execution_count": 50,
   "metadata": {},
   "outputs": [],
   "source": [
    "guest=list(guest)"
   ]
  },
  {
   "cell_type": "code",
   "execution_count": 51,
   "metadata": {},
   "outputs": [],
   "source": [
    "uninvited_guest = guest.pop(0)"
   ]
  },
  {
   "cell_type": "code",
   "execution_count": 52,
   "metadata": {},
   "outputs": [],
   "source": [
    "sorry_note= f\"Sorry, {uninvited_guest}, I couldn't invite you to the dinner. I hope you understand!\""
   ]
  },
  {
   "cell_type": "code",
   "execution_count": 53,
   "metadata": {},
   "outputs": [
    {
     "name": "stdout",
     "output_type": "stream",
     "text": [
      "Sorry, hamza, I couldn't invite you to the dinner. I hope you understand!\n"
     ]
    }
   ],
   "source": [
    "print(sorry_note)"
   ]
  },
  {
   "cell_type": "code",
   "execution_count": 58,
   "metadata": {},
   "outputs": [],
   "source": [
    "uninvited_guest=guest.pop(1)"
   ]
  },
  {
   "cell_type": "code",
   "execution_count": 55,
   "metadata": {},
   "outputs": [],
   "source": [
    "sorry_note= f\"Sorry, {uninvited_guest}, I couldn't invite you to the dinner. I hope you understand!\""
   ]
  },
  {
   "cell_type": "code",
   "execution_count": 56,
   "metadata": {},
   "outputs": [
    {
     "name": "stdout",
     "output_type": "stream",
     "text": [
      "Sorry, Manahil Chaudhary, I couldn't invite you to the dinner. I hope you understand!\n"
     ]
    }
   ],
   "source": [
    "print(sorry_note)"
   ]
  },
  {
   "cell_type": "code",
   "execution_count": 59,
   "metadata": {},
   "outputs": [
    {
     "data": {
      "text/plain": [
       "['Ali Rana']"
      ]
     },
     "execution_count": 59,
     "metadata": {},
     "output_type": "execute_result"
    }
   ],
   "source": [
    "guest"
   ]
  },
  {
   "cell_type": "code",
   "execution_count": 61,
   "metadata": {},
   "outputs": [
    {
     "name": "stdout",
     "output_type": "stream",
     "text": [
      "['Ali Rana'] you are invited for dinner tonight so be on time\n"
     ]
    }
   ],
   "source": [
    "print(f'{guest} you are invited for dinner tonight so be on time')"
   ]
  },
  {
   "cell_type": "code",
   "execution_count": 63,
   "metadata": {},
   "outputs": [],
   "source": [
    "del guest[0]"
   ]
  },
  {
   "cell_type": "code",
   "execution_count": 64,
   "metadata": {},
   "outputs": [
    {
     "name": "stdout",
     "output_type": "stream",
     "text": [
      "[]\n"
     ]
    }
   ],
   "source": [
    "print(guest)"
   ]
  },
  {
   "cell_type": "markdown",
   "metadata": {},
   "source": [
    "# Exercise 3-8: Seeing the World"
   ]
  },
  {
   "cell_type": "code",
   "execution_count": 2,
   "metadata": {},
   "outputs": [
    {
     "name": "stdout",
     "output_type": "stream",
     "text": [
      "('los angles', 'paris', 'dubai', 'baku', 'itly')\n",
      "['baku', 'dubai', 'itly', 'los angles', 'paris']\n",
      "('los angles', 'paris', 'dubai', 'baku', 'itly')\n"
     ]
    }
   ],
   "source": [
    "fav_places:list = 'los angles', 'paris', 'dubai', 'baku', 'itly'\n",
    "print(fav_places)\n",
    "sorted_places = sorted(fav_places)\n",
    "print(sorted_places)\n",
    "print(fav_places)"
   ]
  },
  {
   "cell_type": "code",
   "execution_count": 73,
   "metadata": {},
   "outputs": [],
   "source": [
    "reverse_sorted = sorted(fav_places, reverse=True)"
   ]
  },
  {
   "cell_type": "code",
   "execution_count": 74,
   "metadata": {},
   "outputs": [
    {
     "name": "stdout",
     "output_type": "stream",
     "text": [
      "['paris', 'los angles', 'itly', 'dubai', 'baku']\n"
     ]
    }
   ],
   "source": [
    "print(reverse_sorted)"
   ]
  },
  {
   "cell_type": "code",
   "execution_count": 75,
   "metadata": {},
   "outputs": [
    {
     "name": "stdout",
     "output_type": "stream",
     "text": [
      "('los angles', 'paris', 'dubai', 'baku', 'itly')\n"
     ]
    }
   ],
   "source": [
    "print(fav_places)"
   ]
  },
  {
   "cell_type": "code",
   "execution_count": 82,
   "metadata": {},
   "outputs": [
    {
     "data": {
      "text/plain": [
       "<function list.reverse()>"
      ]
     },
     "execution_count": 82,
     "metadata": {},
     "output_type": "execute_result"
    }
   ],
   "source": [
    "reverse_sorted.reverse"
   ]
  },
  {
   "cell_type": "code",
   "execution_count": 83,
   "metadata": {},
   "outputs": [
    {
     "data": {
      "text/plain": [
       "['paris', 'los angles', 'itly', 'dubai', 'baku']"
      ]
     },
     "execution_count": 83,
     "metadata": {},
     "output_type": "execute_result"
    }
   ],
   "source": [
    "reverse_sorted"
   ]
  },
  {
   "cell_type": "code",
   "execution_count": 84,
   "metadata": {},
   "outputs": [
    {
     "data": {
      "text/plain": [
       "<function list.reverse()>"
      ]
     },
     "execution_count": 84,
     "metadata": {},
     "output_type": "execute_result"
    }
   ],
   "source": [
    "reverse_sorted.reverse"
   ]
  },
  {
   "cell_type": "code",
   "execution_count": 85,
   "metadata": {},
   "outputs": [
    {
     "data": {
      "text/plain": [
       "['paris', 'los angles', 'itly', 'dubai', 'baku']"
      ]
     },
     "execution_count": 85,
     "metadata": {},
     "output_type": "execute_result"
    }
   ],
   "source": [
    "reverse_sorted"
   ]
  },
  {
   "cell_type": "code",
   "execution_count": 86,
   "metadata": {},
   "outputs": [
    {
     "data": {
      "text/plain": [
       "<function list.reverse()>"
      ]
     },
     "execution_count": 86,
     "metadata": {},
     "output_type": "execute_result"
    }
   ],
   "source": [
    "fav_places.reverse"
   ]
  },
  {
   "cell_type": "code",
   "execution_count": 87,
   "metadata": {},
   "outputs": [
    {
     "data": {
      "text/plain": [
       "['los angles', 'paris', 'dubai', 'baku', 'itly']"
      ]
     },
     "execution_count": 87,
     "metadata": {},
     "output_type": "execute_result"
    }
   ],
   "source": [
    "fav_places"
   ]
  },
  {
   "cell_type": "code",
   "execution_count": 88,
   "metadata": {},
   "outputs": [
    {
     "data": {
      "text/plain": [
       "<function list.sort(*, key=None, reverse=False)>"
      ]
     },
     "execution_count": 88,
     "metadata": {},
     "output_type": "execute_result"
    }
   ],
   "source": [
    "fav_places.sort"
   ]
  },
  {
   "cell_type": "code",
   "execution_count": 89,
   "metadata": {},
   "outputs": [
    {
     "data": {
      "text/plain": [
       "['los angles', 'paris', 'dubai', 'baku', 'itly']"
      ]
     },
     "execution_count": 89,
     "metadata": {},
     "output_type": "execute_result"
    }
   ],
   "source": [
    "fav_places"
   ]
  },
  {
   "cell_type": "markdown",
   "metadata": {},
   "source": [
    "# Exercise 3-9: Every Function"
   ]
  },
  {
   "cell_type": "code",
   "execution_count": 3,
   "metadata": {},
   "outputs": [],
   "source": [
    "countries:list = ['Pakistan','india','chaina','dubai','itly','oman']"
   ]
  },
  {
   "cell_type": "code",
   "execution_count": 5,
   "metadata": {},
   "outputs": [
    {
     "name": "stdout",
     "output_type": "stream",
     "text": [
      "original list ['Pakistan', 'india', 'chaina', 'dubai', 'itly', 'oman']\n"
     ]
    }
   ],
   "source": [
    "print('original list', countries)"
   ]
  },
  {
   "cell_type": "code",
   "execution_count": 6,
   "metadata": {},
   "outputs": [],
   "source": [
    "countries.append('spain')"
   ]
  },
  {
   "cell_type": "code",
   "execution_count": 10,
   "metadata": {},
   "outputs": [
    {
     "name": "stdout",
     "output_type": "stream",
     "text": [
      "after append ['Pakistan', 'india', 'chaina', 'dubai', 'itly', 'oman', 'spain']\n"
     ]
    }
   ],
   "source": [
    "print('after append',countries)"
   ]
  },
  {
   "cell_type": "code",
   "execution_count": 13,
   "metadata": {},
   "outputs": [],
   "source": [
    "countries.insert(0,'qatar')"
   ]
  },
  {
   "cell_type": "code",
   "execution_count": 14,
   "metadata": {},
   "outputs": [
    {
     "name": "stdout",
     "output_type": "stream",
     "text": [
      "after insert ['qatar', 'Pakistan', 'india', 'chaina', 'dubai', 'itly', 'oman', 'spain']\n"
     ]
    }
   ],
   "source": [
    "print('after insert', countries)"
   ]
  },
  {
   "cell_type": "code",
   "execution_count": 15,
   "metadata": {},
   "outputs": [],
   "source": [
    "remove = countries.pop(1)"
   ]
  },
  {
   "cell_type": "code",
   "execution_count": 16,
   "metadata": {},
   "outputs": [
    {
     "name": "stdout",
     "output_type": "stream",
     "text": [
      "after remove ['qatar', 'india', 'chaina', 'dubai', 'itly', 'oman', 'spain']\n"
     ]
    }
   ],
   "source": [
    "print('after remove', countries)"
   ]
  },
  {
   "cell_type": "code",
   "execution_count": 17,
   "metadata": {},
   "outputs": [
    {
     "name": "stdout",
     "output_type": "stream",
     "text": [
      "sorted list ['chaina', 'dubai', 'india', 'itly', 'oman', 'qatar', 'spain']\n"
     ]
    }
   ],
   "source": [
    "print('sorted list', sorted(countries))"
   ]
  },
  {
   "cell_type": "code",
   "execution_count": 18,
   "metadata": {},
   "outputs": [
    {
     "name": "stdout",
     "output_type": "stream",
     "text": [
      "original list after sorted ['qatar', 'india', 'chaina', 'dubai', 'itly', 'oman', 'spain']\n"
     ]
    }
   ],
   "source": [
    "print('original list after sorted', countries)"
   ]
  },
  {
   "cell_type": "code",
   "execution_count": 19,
   "metadata": {},
   "outputs": [],
   "source": [
    "countries.sort()"
   ]
  },
  {
   "cell_type": "code",
   "execution_count": 20,
   "metadata": {},
   "outputs": [
    {
     "name": "stdout",
     "output_type": "stream",
     "text": [
      "after permintaly sort ['chaina', 'dubai', 'india', 'itly', 'oman', 'qatar', 'spain']\n"
     ]
    }
   ],
   "source": [
    "print('after permintaly sort', countries)"
   ]
  },
  {
   "cell_type": "code",
   "execution_count": 21,
   "metadata": {},
   "outputs": [],
   "source": [
    "countries.sort(reverse=True)"
   ]
  },
  {
   "cell_type": "code",
   "execution_count": 22,
   "metadata": {},
   "outputs": [],
   "source": [
    "countries.reverse()"
   ]
  },
  {
   "cell_type": "code",
   "execution_count": 23,
   "metadata": {},
   "outputs": [
    {
     "name": "stdout",
     "output_type": "stream",
     "text": [
      "after reverce() ['chaina', 'dubai', 'india', 'itly', 'oman', 'qatar', 'spain']\n"
     ]
    }
   ],
   "source": [
    "print('after reverse()', countries)"
   ]
  },
  {
   "cell_type": "code",
   "execution_count": 25,
   "metadata": {},
   "outputs": [],
   "source": [
    "del countries[0]"
   ]
  },
  {
   "cell_type": "code",
   "execution_count": 26,
   "metadata": {},
   "outputs": [
    {
     "name": "stdout",
     "output_type": "stream",
     "text": [
      "after del ['dubai', 'india', 'itly', 'oman', 'qatar', 'spain']\n"
     ]
    }
   ],
   "source": [
    "print('after del', countries)"
   ]
  },
  {
   "cell_type": "markdown",
   "metadata": {},
   "source": [
    "# Exercise 3-10: Intentional Error"
   ]
  },
  {
   "cell_type": "code",
   "execution_count": 2,
   "metadata": {},
   "outputs": [],
   "source": [
    "fruits:list=['apple','banana','mango']"
   ]
  },
  {
   "cell_type": "code",
   "execution_count": 3,
   "metadata": {},
   "outputs": [
    {
     "name": "stdout",
     "output_type": "stream",
     "text": [
      "['apple', 'banana', 'mango']\n"
     ]
    }
   ],
   "source": [
    "print(fruits)"
   ]
  },
  {
   "cell_type": "code",
   "execution_count": 5,
   "metadata": {},
   "outputs": [
    {
     "ename": "IndexError",
     "evalue": "list index out of range",
     "output_type": "error",
     "traceback": [
      "\u001b[1;31m---------------------------------------------------------------------------\u001b[0m",
      "\u001b[1;31mIndexError\u001b[0m                                Traceback (most recent call last)",
      "Cell \u001b[1;32mIn[5], line 1\u001b[0m\n\u001b[1;32m----> 1\u001b[0m \u001b[38;5;28mprint\u001b[39m(\u001b[43mfruits\u001b[49m\u001b[43m[\u001b[49m\u001b[38;5;241;43m3\u001b[39;49m\u001b[43m]\u001b[49m)\n",
      "\u001b[1;31mIndexError\u001b[0m: list index out of range"
     ]
    }
   ],
   "source": [
    "print(fruits[3])"
   ]
  },
  {
   "cell_type": "code",
   "execution_count": 6,
   "metadata": {},
   "outputs": [
    {
     "name": "stdout",
     "output_type": "stream",
     "text": [
      "mango\n"
     ]
    }
   ],
   "source": [
    "print(fruits[2])"
   ]
  },
  {
   "cell_type": "code",
   "execution_count": 7,
   "metadata": {},
   "outputs": [
    {
     "name": "stdout",
     "output_type": "stream",
     "text": [
      "Index 3 is out of range.\n"
     ]
    }
   ],
   "source": [
    "if len(fruits) > 3:\n",
    "    print(fruits[3])\n",
    "else:\n",
    "    print(\"Index 3 is out of range.\")"
   ]
  }
 ],
 "metadata": {
  "kernelspec": {
   "display_name": "Python 3",
   "language": "python",
   "name": "python3"
  },
  "language_info": {
   "codemirror_mode": {
    "name": "ipython",
    "version": 3
   },
   "file_extension": ".py",
   "mimetype": "text/x-python",
   "name": "python",
   "nbconvert_exporter": "python",
   "pygments_lexer": "ipython3",
   "version": "3.12.4"
  }
 },
 "nbformat": 4,
 "nbformat_minor": 2
}
