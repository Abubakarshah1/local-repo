{
 "cells": [
  {
   "cell_type": "code",
   "execution_count": 5,
   "metadata": {},
   "outputs": [
    {
     "name": "stdout",
     "output_type": "stream",
     "text": [
      "you are passed\n",
      "welcome\n"
     ]
    }
   ],
   "source": [
    "# if condition \n",
    "\n",
    "\n",
    "marks = int(input('Enter your marks'))\n",
    "if marks >= 33:\n",
    "    print('you are passed')\n",
    "\n",
    "\n",
    "print(\"welcome\")"
   ]
  },
  {
   "cell_type": "code",
   "execution_count": 6,
   "metadata": {},
   "outputs": [
    {
     "name": "stdout",
     "output_type": "stream",
     "text": [
      "You are failed\n",
      "welcome\n"
     ]
    }
   ],
   "source": [
    "# if + else condition\n",
    "\n",
    "marks = int(input('Enter your marks'))\n",
    "if marks >= 33:\n",
    "    print('you are passed')\n",
    "else:\n",
    "    print(\"You are failed\")\n",
    "\n",
    "\n",
    "print(\"welcome\")"
   ]
  },
  {
   "cell_type": "code",
   "execution_count": 9,
   "metadata": {},
   "outputs": [
    {
     "name": "stdout",
     "output_type": "stream",
     "text": [
      "Cold Day\n",
      "welcome\n"
     ]
    }
   ],
   "source": [
    "# if + elif + else condition\n",
    "\n",
    "temp = float(input('Enter Temperature'))\n",
    "if temp > 35:\n",
    "    print('HOt Day')\n",
    "elif temp >= 20 and  temp <= 35:\n",
    "    print(\"Pleasant Day\")\n",
    "else:\n",
    "    print(\"Cold Day\")\n",
    "print(\"welcome\")"
   ]
  }
 ],
 "metadata": {
  "kernelspec": {
   "display_name": "Python 3",
   "language": "python",
   "name": "python3"
  },
  "language_info": {
   "codemirror_mode": {
    "name": "ipython",
    "version": 3
   },
   "file_extension": ".py",
   "mimetype": "text/x-python",
   "name": "python",
   "nbconvert_exporter": "python",
   "pygments_lexer": "ipython3",
   "version": "3.12.4"
  }
 },
 "nbformat": 4,
 "nbformat_minor": 2
}
